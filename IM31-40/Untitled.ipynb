{
 "cells": [
  {
   "cell_type": "code",
   "execution_count": 1,
   "metadata": {},
   "outputs": [],
   "source": [
    "import cv2\n",
    "import numpy as np\n",
    "import matplotlib.pyplot as plt\n",
    "\n",
    "# DCT hyoer-parameter\n",
    "T = 8\n",
    "K = 8\n",
    "channel = 3\n"
   ]
  },
  {
   "cell_type": "code",
   "execution_count": 2,
   "metadata": {},
   "outputs": [],
   "source": [
    "\n",
    "# DCT weight\n",
    "def w(x, y, u, v):\n",
    "    cu = 1.\n",
    "    cv = 1.\n",
    "    if u == 0:\n",
    "        cu /= np.sqrt(2)\n",
    "    if v == 0:\n",
    "        cv /= np.sqrt(2)\n",
    "    theta = np.pi / (2 * T)\n",
    "    return (( 2 * cu * cv / T) * np.cos((2*x+1)*u*theta) * np.cos((2*y+1)*v*theta))\n"
   ]
  },
  {
   "cell_type": "code",
   "execution_count": 3,
   "metadata": {},
   "outputs": [],
   "source": [
    "# DCT\n",
    "def dct(img):\n",
    "    H, W, _ = img.shape\n",
    "\n",
    "    F = np.zeros((H, W, channel), dtype=np.float32)\n",
    "\n",
    "    for c in range(channel):\n",
    "        for yi in range(0, H, T):\n",
    "            for xi in range(0, W, T):\n",
    "                for v in range(T):\n",
    "                    for u in range(T):\n",
    "                        for y in range(T):\n",
    "                            for x in range(T):\n",
    "                                F[v+yi, u+xi, c] += img[y+yi, x+xi, c] * w(x,y,u,v)\n",
    "\n",
    "    return F\n"
   ]
  },
  {
   "cell_type": "code",
   "execution_count": 4,
   "metadata": {},
   "outputs": [],
   "source": [
    "# IDCT\n",
    "def idct(F):\n",
    "    H, W, _ = F.shape\n",
    "\n",
    "    out = np.zeros((H, W, channel), dtype=np.float32)\n",
    "\n",
    "    for c in range(channel):\n",
    "        for yi in range(0, H, T):\n",
    "            for xi in range(0, W, T):\n",
    "                for y in range(T):\n",
    "                    for x in range(T):\n",
    "                        for v in range(K):\n",
    "                            for u in range(K):\n",
    "                                out[y+yi, x+xi, c] += F[v+yi, u+xi, c] * w(x,y,u,v)\n",
    "\n",
    "    out = np.clip(out, 0, 255)\n",
    "    out = np.round(out).astype(np.uint8)\n",
    "\n",
    "    return out"
   ]
  },
  {
   "cell_type": "code",
   "execution_count": 5,
   "metadata": {},
   "outputs": [],
   "source": [
    "# Read image\n",
    "img = cv2.imread(\"imori.jpg\").astype(np.float32)\n"
   ]
  },
  {
   "cell_type": "code",
   "execution_count": 6,
   "metadata": {},
   "outputs": [],
   "source": [
    "# DCT\n",
    "F = dct(img)"
   ]
  },
  {
   "cell_type": "code",
   "execution_count": null,
   "metadata": {},
   "outputs": [],
   "source": [
    "# IDCT\n",
    "out = idct(F)"
   ]
  }
 ],
 "metadata": {
  "kernelspec": {
   "display_name": "Python 3",
   "language": "python",
   "name": "python3"
  },
  "language_info": {
   "codemirror_mode": {
    "name": "ipython",
    "version": 3
   },
   "file_extension": ".py",
   "mimetype": "text/x-python",
   "name": "python",
   "nbconvert_exporter": "python",
   "pygments_lexer": "ipython3",
   "version": "3.7.6"
  }
 },
 "nbformat": 4,
 "nbformat_minor": 4
}
