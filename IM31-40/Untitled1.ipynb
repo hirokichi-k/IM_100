{
 "cells": [
  {
   "cell_type": "code",
   "execution_count": 1,
   "metadata": {},
   "outputs": [],
   "source": [
    "import cv2\n",
    "import numpy as np\n",
    "\n",
    "T, K = 8, 8\n",
    "channel = 3"
   ]
  },
  {
   "cell_type": "code",
   "execution_count": 2,
   "metadata": {},
   "outputs": [],
   "source": [
    "def w(x, y, u, v):\n",
    "    cu = 1.\n",
    "    cv = 1.\n",
    "    if u == 0:\n",
    "        cu /= np.sqrt(2)\n",
    "    if v == 0:\n",
    "        cv /= np.sqrt(2)\n",
    "    theta = np.pi / (2 * T)\n",
    "    return (( 2 * cu * cv / T) * np.cos((2*x+1)*u*theta) * np.cos((2*y+1)*v*theta))\n"
   ]
  },
  {
   "cell_type": "code",
   "execution_count": 11,
   "metadata": {},
   "outputs": [],
   "source": [
    "def dct(img):\n",
    "    H,W,_ = img.shape\n",
    "    out = np.zeros_like(img,dtype = np.float32)\n",
    "\n",
    "    for c in range(channel):\n",
    "        for yi in range(0, H, T):\n",
    "            for xi in range(0, W, T):\n",
    "                for v in range(T):\n",
    "                    for u in range(T):\n",
    "                        for y in range(T):\n",
    "                            for x in range(T):\n",
    "                                out[v+yi, u+xi, c] += img[y+yi, x+xi,c] * w(x,y,u,v)\n",
    "    \n",
    "    return out"
   ]
  },
  {
   "cell_type": "code",
   "execution_count": 4,
   "metadata": {},
   "outputs": [],
   "source": [
    "def idct(img):\n",
    "    H, W, _ = img.shape\n",
    "    out = np.zeros_like(img, dtype= np.float32)\n",
    "    for c in range(channel):\n",
    "        for yi in range(0, H, T):\n",
    "            for xi in range(0, W, T):\n",
    "                for y in range(T):\n",
    "                    for x in range(T):\n",
    "                        for v in range(K):\n",
    "                            for u in range(K):\n",
    "                                out[y+yi, x+xi, c] += img[v+yi, u+xi, c] * w(x, y, u, v)\n",
    "\n",
    "    out = np.clip(np.round(out).astype(np.uint8), 0, 255)\n",
    "    return out"
   ]
  },
  {
   "cell_type": "code",
   "execution_count": 8,
   "metadata": {},
   "outputs": [],
   "source": [
    "img = cv2.imread(\"imori.jpg\").astype(np.float32)"
   ]
  },
  {
   "cell_type": "code",
   "execution_count": 12,
   "metadata": {},
   "outputs": [],
   "source": [
    "img1 = dct(img)"
   ]
  },
  {
   "cell_type": "code",
   "execution_count": 13,
   "metadata": {},
   "outputs": [],
   "source": [
    "out = idct(img1)"
   ]
  },
  {
   "cell_type": "code",
   "execution_count": null,
   "metadata": {},
   "outputs": [],
   "source": []
  }
 ],
 "metadata": {
  "kernelspec": {
   "display_name": "Python 3",
   "language": "python",
   "name": "python3"
  },
  "language_info": {
   "codemirror_mode": {
    "name": "ipython",
    "version": 3
   },
   "file_extension": ".py",
   "mimetype": "text/x-python",
   "name": "python",
   "nbconvert_exporter": "python",
   "pygments_lexer": "ipython3",
   "version": "3.7.6"
  }
 },
 "nbformat": 4,
 "nbformat_minor": 4
}
