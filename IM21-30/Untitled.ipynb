{
 "cells": [
  {
   "cell_type": "code",
   "execution_count": 5,
   "metadata": {},
   "outputs": [],
   "source": [
    "import cv2\n",
    "import numpy as np\n",
    "import matplotlib.pyplot as plt\n"
   ]
  },
  {
   "cell_type": "code",
   "execution_count": 3,
   "metadata": {},
   "outputs": [],
   "source": [
    "\n",
    "def hist_equation(img, Zmax = 255):\n",
    "    H,W,C = img.shape\n",
    "    S = H*W*C*1.\n",
    "\n",
    "    out = img.copy()\n",
    "    h_pool = 0.\n",
    "\n",
    "    for i in range(1, Zmax):\n",
    "        h_pool += len(out[out == i])\n",
    "        out[out == i] = Zmax/S * h_pool\n",
    "\n",
    "    out = out.astype(np.uint8)\n",
    "\n",
    "    return out"
   ]
  },
  {
   "cell_type": "code",
   "execution_count": 6,
   "metadata": {},
   "outputs": [],
   "source": [
    "img = cv2.imread(\"imori_dark.jpg\").astype(np.float)\n",
    "\n",
    "# out = hist_equation(img, Zmax = 255)"
   ]
  },
  {
   "cell_type": "code",
   "execution_count": 9,
   "metadata": {},
   "outputs": [],
   "source": [
    "H,W,C = img.shape\n",
    "S = H*W*C*1.\n",
    "\n",
    "out = img.copy()\n",
    "h_pool = 0.\n",
    "Zmax = 255"
   ]
  },
  {
   "cell_type": "code",
   "execution_count": 10,
   "metadata": {},
   "outputs": [],
   "source": [
    "for i in range(1, Zmax):\n",
    "    h_pool += len(out[out == i])\n",
    "    out[out == i] = Zmax/S * h_pool\n",
    "\n",
    "out = out.astype(np.uint8)"
   ]
  },
  {
   "cell_type": "code",
   "execution_count": 4,
   "metadata": {},
   "outputs": [],
   "source": [
    "plt.hist(out.ravel(), bins=255, rwidth=0.8, range=(0, 255))\n",
    "plt.savefig(\"out_equation.png\")\n",
    "\n",
    "cv2.imwrite(\"out_equation.jpg\",out)"
   ]
  },
  {
   "cell_type": "code",
   "execution_count": 4,
   "metadata": {},
   "outputs": [],
   "source": []
  }
 ],
 "metadata": {
  "kernelspec": {
   "display_name": "Python 3",
   "language": "python",
   "name": "python3"
  },
  "language_info": {
   "codemirror_mode": {
    "name": "ipython",
    "version": 3
   },
   "file_extension": ".py",
   "mimetype": "text/x-python",
   "name": "python",
   "nbconvert_exporter": "python",
   "pygments_lexer": "ipython3",
   "version": "3.7.6"
  }
 },
 "nbformat": 4,
 "nbformat_minor": 4
}
